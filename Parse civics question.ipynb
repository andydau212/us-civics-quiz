{
 "cells": [
  {
   "cell_type": "markdown",
   "id": "96e6e459",
   "metadata": {},
   "source": [
    "## Parse pdf and generate question bank"
   ]
  },
  {
   "cell_type": "code",
   "execution_count": 2,
   "id": "1c31771c",
   "metadata": {},
   "outputs": [],
   "source": [
    "from langchain.document_loaders import PyPDFLoader\n",
    "loader = PyPDFLoader('100q.pdf')\n",
    "\n",
    "data = loader.load()\n"
   ]
  },
  {
   "cell_type": "code",
   "execution_count": 2,
   "id": "3341ba64",
   "metadata": {},
   "outputs": [],
   "source": [
    "from main_quiz import QAs\n",
    "from langchain.output_parsers import PydanticOutputParser\n",
    "\n",
    "parser = PydanticOutputParser(pydantic_object=QAs)"
   ]
  },
  {
   "cell_type": "code",
   "execution_count": null,
   "id": "2339c96f",
   "metadata": {},
   "outputs": [],
   "source": [
    "from langchain.prompts import PromptTemplate\n",
    "from langchain.chat_models import ChatOpenAI\n",
    "\n",
    "llm = ChatOpenAI(temperature=0, model_name='gpt-3.5-turbo', max_tokens=1500)\n",
    "prompt = PromptTemplate(\n",
    "    input_variables=[\"document\"],\n",
    "    template=\"Parse the document and capture all questions and answers. Question will come with a number in front, and there might be multiple answers but you should parse it as one string. Do not return anything else.\\n {format_instructions}. Document:\\n {document}.\\n \",\n",
    "    partial_variables={\"format_instructions\": parser.get_format_instructions()}\n",
    ")"
   ]
  },
  {
   "cell_type": "code",
   "execution_count": null,
   "id": "0200d2ce",
   "metadata": {},
   "outputs": [],
   "source": [
    "from langchain.callbacks import get_openai_callback\n",
    "master = QAs(items=[])\n",
    "for doc in data:\n",
    "    _input = prompt.format_prompt(document=doc.page_content)\n",
    "    with get_openai_callback() as cb:\n",
    "        output = llm.predict(_input.to_string())\n",
    "        current_qa = parser.parse(output)\n",
    "    print(cb)\n",
    "    print(output)\n",
    "    master.items.extend(current_qa.items)\n"
   ]
  },
  {
   "cell_type": "code",
   "execution_count": null,
   "id": "941bf6b1",
   "metadata": {},
   "outputs": [],
   "source": [
    "assert len(master.items) == 100\n",
    "\n",
    "import json\n",
    "with open('data.json', 'w') as f:\n",
    "    json.dump(master.dict(), f, indent=4)"
   ]
  }
 ],
 "metadata": {
  "kernelspec": {
   "display_name": "Python 3 (ipykernel)",
   "language": "python",
   "name": "python3"
  },
  "language_info": {
   "codemirror_mode": {
    "name": "ipython",
    "version": 3
   },
   "file_extension": ".py",
   "mimetype": "text/x-python",
   "name": "python",
   "nbconvert_exporter": "python",
   "pygments_lexer": "ipython3",
   "version": "3.11.3"
  }
 },
 "nbformat": 4,
 "nbformat_minor": 5
}
